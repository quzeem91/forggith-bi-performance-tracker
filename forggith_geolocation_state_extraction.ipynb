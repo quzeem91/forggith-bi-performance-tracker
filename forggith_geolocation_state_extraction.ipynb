{
 "cells": [
  {
   "cell_type": "code",
   "execution_count": null,
   "metadata": {},
   "outputs": [
    {
     "name": "stderr",
     "output_type": "stream",
     "text": [
      "<>:3: SyntaxWarning: invalid escape sequence '\\D'\n",
      "<>:3: SyntaxWarning: invalid escape sequence '\\D'\n",
      "C:\\Users\\HP\\AppData\\Local\\Temp\\ipykernel_18636\\943719071.py:3: SyntaxWarning: invalid escape sequence '\\D'\n",
      "  file_path = 'C:\\\\Users\\\\HP\\Downloads\\Forggith.xlsx' # change this to your actual file path\n"
     ]
    },
    {
     "data": {
      "text/html": [
       "<div>\n",
       "<style scoped>\n",
       "    .dataframe tbody tr th:only-of-type {\n",
       "        vertical-align: middle;\n",
       "    }\n",
       "\n",
       "    .dataframe tbody tr th {\n",
       "        vertical-align: top;\n",
       "    }\n",
       "\n",
       "    .dataframe thead th {\n",
       "        text-align: right;\n",
       "    }\n",
       "</style>\n",
       "<table border=\"1\" class=\"dataframe\">\n",
       "  <thead>\n",
       "    <tr style=\"text-align: right;\">\n",
       "      <th></th>\n",
       "      <th>LocationID</th>\n",
       "      <th>City</th>\n",
       "      <th>Latitude</th>\n",
       "      <th>Longitude</th>\n",
       "    </tr>\n",
       "  </thead>\n",
       "  <tbody>\n",
       "    <tr>\n",
       "      <th>0</th>\n",
       "      <td>Ditzingen-48.8264-9.0667</td>\n",
       "      <td>Ditzingen</td>\n",
       "      <td>48.8264</td>\n",
       "      <td>9.0667</td>\n",
       "    </tr>\n",
       "    <tr>\n",
       "      <th>1</th>\n",
       "      <td>Backnang-48.9464-9.4306</td>\n",
       "      <td>Backnang</td>\n",
       "      <td>48.9464</td>\n",
       "      <td>9.4306</td>\n",
       "    </tr>\n",
       "    <tr>\n",
       "      <th>2</th>\n",
       "      <td>Rheinbach-50.6256-6.9491</td>\n",
       "      <td>Rheinbach</td>\n",
       "      <td>50.6256</td>\n",
       "      <td>6.9491</td>\n",
       "    </tr>\n",
       "    <tr>\n",
       "      <th>3</th>\n",
       "      <td>Fürth-49.4783-10.9903</td>\n",
       "      <td>Fürth</td>\n",
       "      <td>49.4783</td>\n",
       "      <td>10.9903</td>\n",
       "    </tr>\n",
       "    <tr>\n",
       "      <th>4</th>\n",
       "      <td>Geldern-51.5197-6.3325</td>\n",
       "      <td>Geldern</td>\n",
       "      <td>51.5197</td>\n",
       "      <td>6.3325</td>\n",
       "    </tr>\n",
       "  </tbody>\n",
       "</table>\n",
       "</div>"
      ],
      "text/plain": [
       "                 LocationID       City  Latitude  Longitude\n",
       "0  Ditzingen-48.8264-9.0667  Ditzingen   48.8264     9.0667\n",
       "1   Backnang-48.9464-9.4306   Backnang   48.9464     9.4306\n",
       "2  Rheinbach-50.6256-6.9491  Rheinbach   50.6256     6.9491\n",
       "3     Fürth-49.4783-10.9903      Fürth   49.4783    10.9903\n",
       "4    Geldern-51.5197-6.3325    Geldern   51.5197     6.3325"
      ]
     },
     "execution_count": 1,
     "metadata": {},
     "output_type": "execute_result"
    }
   ],
   "source": [
    "# Import required libraries\n",
    "import pandas as pd\n",
    "from geopy.geocoders import Nominatim  # For reverse geocoding (getting address from coordinates)\n",
    "\n",
    "# Define the file path to the Excel workbook containing location data\n",
    "file_path = '.\\Downloads\\\\Forggith.xlsx'  # Update this path based on your local setup\n",
    "\n",
    "# Specify the sheet name that contains the location information\n",
    "sheet_name = \"DimLocation\"  # This should match the exact sheet name in the Excel file\n",
    "\n",
    "# Load the specified Excel sheet into a DataFrame\n",
    "df = pd.read_excel(file_path, sheet_name=sheet_name)\n",
    "\n",
    "# Preview the first few rows of the DataFrame to confirm successful load\n",
    "df.head()\n"
   ]
  },
  {
   "cell_type": "code",
   "execution_count": null,
   "metadata": {},
   "outputs": [
    {
     "name": "stdout",
     "output_type": "stream",
     "text": [
      "Pfarrer-Herrmann-Weg, Nollingen, Rheinfelden (Baden), Verwaltungsgemeinschaft Rheinfelden (Baden), Landkreis Lörrach, Baden-Württemberg, 79618, Deutschland\n"
     ]
    }
   ],
   "source": [
    "# Testing geopy with a sample pair of latitude and longitude\n",
    "\n",
    "# Initialize the Nominatim geolocator with a custom user agent (recommended to use your email)\n",
    "geolocator = Nominatim(user_agent=\"lbeerus2025@gmail.com\")\n",
    "\n",
    "# Perform reverse geocoding on a sample coordinate (latitude, longitude)\n",
    "location = geolocator.reverse(\"47.5611, 7.7917\")\n",
    "\n",
    "# Print the full address returned from the coordinate\n",
    "print(location.address)\n"
   ]
  },
  {
   "cell_type": "code",
   "execution_count": null,
   "metadata": {},
   "outputs": [
    {
     "name": "stdout",
     "output_type": "stream",
     "text": [
      "Rathaus, 1, Am Laien, Brühl, Ditzingen, Landkreis Ludwigsburg, Baden-Württemberg, 71254, Deutschland\n"
     ]
    }
   ],
   "source": [
    "# Testing geopy with a real pair of latitude and longitude from the dataset\n",
    "\n",
    "# Format the first row's latitude and longitude into a string \"lat, lon\"\n",
    "coordinates = f\"{df['Latitude'].iloc[0]}, {df['Longitude'].iloc[0]}\"\n",
    "\n",
    "# Use geopy's reverse geocoding to get the address of that coordinate\n",
    "location1 = geolocator.reverse(coordinates)\n",
    "\n",
    "# Print the resulting address to inspect what was returned\n",
    "print(location1.address)\n"
   ]
  },
  {
   "cell_type": "code",
   "execution_count": null,
   "metadata": {},
   "outputs": [
    {
     "name": "stdout",
     "output_type": "stream",
     "text": [
      "Error reverse geocoding: HTTPSConnectionPool(host='nominatim.openstreetmap.org', port=443): Max retries exceeded with url: /reverse?lat=47.5611&lon=7.7917&format=json&addressdetails=1 (Caused by ConnectTimeoutError(<urllib3.connection.HTTPSConnection object at 0x00000203295AF6E0>, 'Connection to nominatim.openstreetmap.org timed out. (connect timeout=1)'))\n",
      "   Latitude  Longitude                                            Address\n",
      "0   48.8264     9.0667  Rathaus, 1, Am Laien, Brühl, Ditzingen, Landkr...\n",
      "1   48.9464     9.4306  zauberhaft!, Kuhbergele, Backnang, Vereinbarte...\n",
      "2   50.6256     6.9491  27, Hauptstraße, Rheinbach, Rhein-Sieg-Kreis, ...\n",
      "3   49.4783    10.9903  6, Gustavstraße, Altstadt, Fürth, Bayern, 9076...\n",
      "4   51.5197     6.3325  Herr Dr. med. Stefan Pingsten, 1, Stauffenberg...\n"
     ]
    }
   ],
   "source": [
    "# Since the dataset has only about 500 rows, I didnt set a timeout\n",
    "# Initialize the geolocator using Nominatim with a custom user agent (use your email or app name)\n",
    "geolocator = Nominatim(user_agent=\"lbeerus2025@gmail.com\")  # Replace with your email or application name\n",
    "\n",
    "# Define a function to reverse geocode each row's coordinates into a human-readable address\n",
    "def reverse_geocode(row):\n",
    "    try:\n",
    "        # Combine Latitude and Longitude values from the row into a \"lat, lon\" string\n",
    "        coordinates = f\"{row['Latitude']}, {row['Longitude']}\"\n",
    "        \n",
    "        # Use geopy to get the location object corresponding to the coordinates\n",
    "        location = geolocator.reverse(coordinates, exactly_one=True)\n",
    "        \n",
    "        # Return the address if found, else return None\n",
    "        if location and location.address:\n",
    "            return location.address\n",
    "        else:\n",
    "            return None\n",
    "    except Exception as e:\n",
    "        # If an error occurs (e.g., rate limiting, connection issue), print it and return None\n",
    "        print(f\"Error reverse geocoding: {e}\")\n",
    "        return None\n",
    "\n",
    "# Apply the reverse_geocode function to each row to generate an Address column\n",
    "df['Address'] = df.apply(reverse_geocode, axis=1)\n",
    "\n",
    "# Display the first few results to verify that addresses were successfully retrieved\n",
    "print(df[['Latitude', 'Longitude', 'Address']].head())\n"
   ]
  },
  {
   "cell_type": "code",
   "execution_count": null,
   "metadata": {},
   "outputs": [],
   "source": [
    "# Code with time out and  increased max retries\n",
    "# Importing necessary modules from geopy and standard libraries\n",
    "from geopy.geocoders import Nominatim\n",
    "from geopy.exc import GeocoderTimedOut, GeocoderServiceError\n",
    "import time\n",
    "\n",
    "# Initialize the Nominatim geocoder with a user agent and increased timeout\n",
    "geolocator = Nominatim(user_agent=\"your_app_name\", timeout=10)  # Replace \"your_app_name\" with your actual identifier\n",
    "\n",
    "# Function to reverse geocode with retry mechanism in case of timeouts or service errors\n",
    "def reverse_geocode_with_retry(row, max_retries=3, retry_delay=2):\n",
    "    for attempt in range(max_retries):\n",
    "        try:\n",
    "            # Construct the coordinate string from the Latitude and Longitude in the row\n",
    "            coordinates = f\"{row['Latitude']}, {row['Longitude']}\"\n",
    "            \n",
    "            # Attempt to get the address from the coordinates\n",
    "            location = geolocator.reverse(coordinates, exactly_one=True)\n",
    "            \n",
    "            # If a valid location is found, return its address\n",
    "            if location and location.address:\n",
    "                return location.address\n",
    "            else:\n",
    "                return None\n",
    "        \n",
    "        # Handle expected geocoding exceptions and retry if applicable\n",
    "        except (GeocoderTimedOut, GeocoderServiceError) as e:\n",
    "            print(f\"Geocoding failed (attempt {attempt + 1}/{max_retries}): {e}\")\n",
    "            if attempt < max_retries - 1:\n",
    "                time.sleep(retry_delay)  # Wait before retrying\n",
    "            continue\n",
    "        \n",
    "        # Handle any other unexpected exceptions\n",
    "        except Exception as e:\n",
    "            print(f\"An unexpected error occurred: {e}\")\n",
    "            return None\n",
    "    \n",
    "    # Return None if all retries fail\n",
    "    return None\n",
    "\n",
    "# Apply the reverse geocoding function across each row in the DataFrame\n",
    "df['Address'] = df.apply(reverse_geocode_with_retry, axis=1)\n",
    "\n",
    "# Print the first few results to verify success\n",
    "print(df[['Latitude', 'Longitude', 'Address']].head())\n"
   ]
  },
  {
   "cell_type": "code",
   "execution_count": null,
   "metadata": {},
   "outputs": [
    {
     "data": {
      "text/plain": [
       "0      Rathaus, 1, Am Laien, Brühl, Ditzingen, Landkr...\n",
       "1      zauberhaft!, Kuhbergele, Backnang, Vereinbarte...\n",
       "2      27, Hauptstraße, Rheinbach, Rhein-Sieg-Kreis, ...\n",
       "3      6, Gustavstraße, Altstadt, Fürth, Bayern, 9076...\n",
       "4      Herr Dr. med. Stefan Pingsten, 1, Stauffenberg...\n",
       "                             ...                        \n",
       "546    22, Heinrich-Heine-Platz, Mitte, Kernstadt, La...\n",
       "547    Oberallgäuer Platz, Illersiedlung, Margarethen...\n",
       "548    JOH, 15 - 21, Hauptstraße, Altstadt Zwickau, I...\n",
       "549    2, Erich-Weinert-Straße, Wolkenrasen, Oberlind...\n",
       "550    10, Markt, Innenstadt, Helmstedt, Landkreis He...\n",
       "Name: Address, Length: 551, dtype: object"
      ]
     },
     "execution_count": 10,
     "metadata": {},
     "output_type": "execute_result"
    }
   ],
   "source": [
    "# Viewing the 'Address' column to inspect the full reverse-geocoded results\n",
    "# This helps verify the structure and consistency of the returned location strings\n",
    "df['Address']"
   ]
  },
  {
   "cell_type": "code",
   "execution_count": null,
   "metadata": {},
   "outputs": [
    {
     "name": "stdout",
     "output_type": "stream",
     "text": [
      "                                             Address                State\n",
      "0  Rathaus, 1, Am Laien, Brühl, Ditzingen, Landkr...    Baden-Württemberg\n",
      "1  zauberhaft!, Kuhbergele, Backnang, Vereinbarte...    Baden-Württemberg\n",
      "2  27, Hauptstraße, Rheinbach, Rhein-Sieg-Kreis, ...  Nordrhein-Westfalen\n",
      "3  6, Gustavstraße, Altstadt, Fürth, Bayern, 9076...               Bayern\n",
      "4  Herr Dr. med. Stefan Pingsten, 1, Stauffenberg...  Nordrhein-Westfalen\n"
     ]
    }
   ],
   "source": [
    "# Function to extract the State from the 'Address' column\n",
    "def extract_state(address):\n",
    "    \"\"\"\n",
    "    Extracts the third element from the end of a comma-separated address string,\n",
    "    which is assumed to be the state.\n",
    "\n",
    "    Args:\n",
    "        address (str): Full address returned by reverse geocoding.\n",
    "\n",
    "    Returns:\n",
    "        str or None: Extracted state name, or None if the address is invalid or too short.\n",
    "    \"\"\"\n",
    "    if address is None:\n",
    "        return None\n",
    "    \n",
    "    # Split the address into parts using comma as a separator\n",
    "    parts = address.split(', ')\n",
    "    \n",
    "    # Return the third element from the right if enough parts exist\n",
    "    if len(parts) >= 3:\n",
    "        return parts[-3]\n",
    "    else:\n",
    "        return None\n",
    "\n",
    "# Apply the function to the DataFrame to extract and create a new 'State' column\n",
    "df['State'] = df['Address'].apply(extract_state)\n",
    "\n",
    "# Display the first few rows to verify the extraction\n",
    "print(df[['Address', 'State']].head())\n"
   ]
  },
  {
   "cell_type": "code",
   "execution_count": 14,
   "metadata": {},
   "outputs": [
    {
     "data": {
      "text/plain": [
       "Index(['Nordrhein-Westfalen', 'Baden-Württemberg', 'Bayern', 'Niedersachsen',\n",
       "       'Hessen', 'Rheinland-Pfalz', 'Brandenburg', 'Thüringen',\n",
       "       'Sachsen-Anhalt', 'Sachsen', 'Schleswig-Holstein',\n",
       "       'Mecklenburg-Vorpommern', 'Saarland', 'Bremen', 'Hamburg', 'Berlin'],\n",
       "      dtype='object', name='State')"
      ]
     },
     "execution_count": 14,
     "metadata": {},
     "output_type": "execute_result"
    }
   ],
   "source": [
    "df['State'].value_counts().index"
   ]
  },
  {
   "cell_type": "code",
   "execution_count": 15,
   "metadata": {},
   "outputs": [],
   "source": [
    "df.to_excel(\"location_states.xlsx\", index=False)"
   ]
  },
  {
   "cell_type": "markdown",
   "metadata": {},
   "source": [
    " *A hierarchy can now be created using the State and City columns to enable better map visualizations that support drilldowns of revenue contributions and order counts*"
   ]
  },
  {
   "cell_type": "markdown",
   "metadata": {},
   "source": []
  }
 ],
 "metadata": {
  "kernelspec": {
   "display_name": "base",
   "language": "python",
   "name": "python3"
  },
  "language_info": {
   "codemirror_mode": {
    "name": "ipython",
    "version": 3
   },
   "file_extension": ".py",
   "mimetype": "text/x-python",
   "name": "python",
   "nbconvert_exporter": "python",
   "pygments_lexer": "ipython3",
   "version": "3.12.7"
  }
 },
 "nbformat": 4,
 "nbformat_minor": 2
}
